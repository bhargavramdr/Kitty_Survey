{
 "cells": [
  {
   "cell_type": "code",
   "execution_count": 1,
   "id": "e02939b6",
   "metadata": {},
   "outputs": [],
   "source": [
    "import pandas as pd\n",
    "import numpy as np"
   ]
  },
  {
   "cell_type": "code",
   "execution_count": 2,
   "id": "7797e4b3",
   "metadata": {},
   "outputs": [],
   "source": [
    "kity_sur = pd.read_csv(\"_Kitty-Survey-Feedback---New-Meer-Kitty-survey-feedback.csv\")"
   ]
  },
  {
   "cell_type": "code",
   "execution_count": 3,
   "id": "e417239c",
   "metadata": {},
   "outputs": [
    {
     "name": "stdout",
     "output_type": "stream",
     "text": [
      "Index(['User number', 'Q1: How many times a year do you do a DIY project?',\n",
      "       'Q2: About how much do you spend on home-improvement each year?',\n",
      "       'Q3: Do you plan to complete a DIY project that involves painting in the next year?',\n",
      "       'Q4: If you answered yes to question 3, about how much do you plan to spend on indoor paint for the project?',\n",
      "       'Q5: If you answered yes to question 3, how likely are you to try an indoor paint offered by Meer-Kitty for your project?',\n",
      "       'Q6: What are your favorite indoor paint colors?',\n",
      "       'Q6: What are your favorite indoor paint colors?.1', 'Unnamed: 8',\n",
      "       'Unnamed: 9', 'Unnamed: 10'],\n",
      "      dtype='object')\n",
      "(152, 11)\n"
     ]
    }
   ],
   "source": [
    "print(kity_sur.columns)\n",
    "print(kity_sur.shape)"
   ]
  },
  {
   "cell_type": "markdown",
   "id": "ea74d910",
   "metadata": {},
   "source": [
    "### To Drop duplicate"
   ]
  },
  {
   "cell_type": "code",
   "execution_count": 4,
   "id": "92b87d92",
   "metadata": {},
   "outputs": [],
   "source": [
    "kity_sur.drop_duplicates(subset = \"User number\", keep = \"first\", inplace = True)"
   ]
  },
  {
   "cell_type": "code",
   "execution_count": 5,
   "id": "c34cf02c",
   "metadata": {},
   "outputs": [
    {
     "data": {
      "text/html": [
       "<div>\n",
       "<style scoped>\n",
       "    .dataframe tbody tr th:only-of-type {\n",
       "        vertical-align: middle;\n",
       "    }\n",
       "\n",
       "    .dataframe tbody tr th {\n",
       "        vertical-align: top;\n",
       "    }\n",
       "\n",
       "    .dataframe thead th {\n",
       "        text-align: right;\n",
       "    }\n",
       "</style>\n",
       "<table border=\"1\" class=\"dataframe\">\n",
       "  <thead>\n",
       "    <tr style=\"text-align: right;\">\n",
       "      <th></th>\n",
       "      <th>User number</th>\n",
       "      <th>Q1: How many times a year do you do a DIY project?</th>\n",
       "      <th>Q2: About how much do you spend on home-improvement each year?</th>\n",
       "      <th>Q3: Do you plan to complete a DIY project that involves painting in the next year?</th>\n",
       "      <th>Q4: If you answered yes to question 3, about how much do you plan to spend on indoor paint for the project?</th>\n",
       "      <th>Q5: If you answered yes to question 3, how likely are you to try an indoor paint offered by Meer-Kitty for your project?</th>\n",
       "      <th>Q6: What are your favorite indoor paint colors?</th>\n",
       "      <th>Q6: What are your favorite indoor paint colors?.1</th>\n",
       "      <th>Unnamed: 8</th>\n",
       "      <th>Unnamed: 9</th>\n",
       "      <th>Unnamed: 10</th>\n",
       "    </tr>\n",
       "  </thead>\n",
       "  <tbody>\n",
       "    <tr>\n",
       "      <th>0</th>\n",
       "      <td>749</td>\n",
       "      <td>01-02-2021</td>\n",
       "      <td>Less than $100</td>\n",
       "      <td>Yes</td>\n",
       "      <td>Less than $50</td>\n",
       "      <td>Somewhat likely</td>\n",
       "      <td>red, orange</td>\n",
       "      <td>red</td>\n",
       "      <td>orange</td>\n",
       "      <td>NaN</td>\n",
       "      <td>NaN</td>\n",
       "    </tr>\n",
       "    <tr>\n",
       "      <th>1</th>\n",
       "      <td>854</td>\n",
       "      <td>03-05-2021</td>\n",
       "      <td>$101-$250</td>\n",
       "      <td>No</td>\n",
       "      <td>NaN</td>\n",
       "      <td>NaN</td>\n",
       "      <td>lime</td>\n",
       "      <td>lime</td>\n",
       "      <td>NaN</td>\n",
       "      <td>NaN</td>\n",
       "      <td>NaN</td>\n",
       "    </tr>\n",
       "    <tr>\n",
       "      <th>2</th>\n",
       "      <td>721</td>\n",
       "      <td>none</td>\n",
       "      <td>Less than $100</td>\n",
       "      <td>No</td>\n",
       "      <td>NaN</td>\n",
       "      <td>NaN</td>\n",
       "      <td>Indigo</td>\n",
       "      <td>Indigo</td>\n",
       "      <td>NaN</td>\n",
       "      <td>NaN</td>\n",
       "      <td>NaN</td>\n",
       "    </tr>\n",
       "    <tr>\n",
       "      <th>3</th>\n",
       "      <td>772</td>\n",
       "      <td>01-02-2021</td>\n",
       "      <td>$501-$1,000</td>\n",
       "      <td>Yes</td>\n",
       "      <td>$101-$250</td>\n",
       "      <td>Very likely</td>\n",
       "      <td>pink, blue, purple</td>\n",
       "      <td>pink</td>\n",
       "      <td>blue</td>\n",
       "      <td>purple</td>\n",
       "      <td>NaN</td>\n",
       "    </tr>\n",
       "    <tr>\n",
       "      <th>4</th>\n",
       "      <td>923</td>\n",
       "      <td>01-02-2021</td>\n",
       "      <td>$501-$1,000</td>\n",
       "      <td>No</td>\n",
       "      <td>NaN</td>\n",
       "      <td>NaN</td>\n",
       "      <td>Green</td>\n",
       "      <td>Green</td>\n",
       "      <td>NaN</td>\n",
       "      <td>NaN</td>\n",
       "      <td>NaN</td>\n",
       "    </tr>\n",
       "  </tbody>\n",
       "</table>\n",
       "</div>"
      ],
      "text/plain": [
       "   User number Q1: How many times a year do you do a DIY project?  \\\n",
       "0          749                                         01-02-2021   \n",
       "1          854                                         03-05-2021   \n",
       "2          721                                               none   \n",
       "3          772                                         01-02-2021   \n",
       "4          923                                         01-02-2021   \n",
       "\n",
       "  Q2: About how much do you spend on home-improvement each year?  \\\n",
       "0                                     Less than $100               \n",
       "1                                          $101-$250               \n",
       "2                                     Less than $100               \n",
       "3                                        $501-$1,000               \n",
       "4                                        $501-$1,000               \n",
       "\n",
       "  Q3: Do you plan to complete a DIY project that involves painting in the next year?  \\\n",
       "0                                                Yes                                   \n",
       "1                                                 No                                   \n",
       "2                                                 No                                   \n",
       "3                                                Yes                                   \n",
       "4                                                 No                                   \n",
       "\n",
       "  Q4: If you answered yes to question 3, about how much do you plan to spend on indoor paint for the project?  \\\n",
       "0                                      Less than $50                                                            \n",
       "1                                                NaN                                                            \n",
       "2                                                NaN                                                            \n",
       "3                                          $101-$250                                                            \n",
       "4                                                NaN                                                            \n",
       "\n",
       "  Q5: If you answered yes to question 3, how likely are you to try an indoor paint offered by Meer-Kitty for your project?  \\\n",
       "0                                    Somewhat likely                                                                         \n",
       "1                                                NaN                                                                         \n",
       "2                                                NaN                                                                         \n",
       "3                                        Very likely                                                                         \n",
       "4                                                NaN                                                                         \n",
       "\n",
       "  Q6: What are your favorite indoor paint colors?  \\\n",
       "0                                     red, orange   \n",
       "1                                            lime   \n",
       "2                                          Indigo   \n",
       "3                              pink, blue, purple   \n",
       "4                                           Green   \n",
       "\n",
       "  Q6: What are your favorite indoor paint colors?.1 Unnamed: 8 Unnamed: 9  \\\n",
       "0                                               red     orange        NaN   \n",
       "1                                              lime        NaN        NaN   \n",
       "2                                            Indigo        NaN        NaN   \n",
       "3                                              pink       blue     purple   \n",
       "4                                             Green        NaN        NaN   \n",
       "\n",
       "  Unnamed: 10  \n",
       "0         NaN  \n",
       "1         NaN  \n",
       "2         NaN  \n",
       "3         NaN  \n",
       "4         NaN  "
      ]
     },
     "execution_count": 5,
     "metadata": {},
     "output_type": "execute_result"
    }
   ],
   "source": [
    "kity_sur.head()"
   ]
  },
  {
   "cell_type": "markdown",
   "id": "7ae55a67",
   "metadata": {},
   "source": [
    "### Concatination the Colors columns, But its unecessary."
   ]
  },
  {
   "cell_type": "code",
   "execution_count": 6,
   "id": "38cc7ebd",
   "metadata": {},
   "outputs": [],
   "source": [
    "#kity_sur['Q6: What are your favorite indoor paint colors?.1'] = kity_sur['Q6: What are your favorite indoor paint colors?.1'].fillna(\"\") + \" \" + kity_sur['Unnamed: 8'].fillna(\"\") + \" \" + kity_sur['Unnamed: 9'].fillna(\"\") + \" \" + kity_sur['Unnamed: 10'].fillna(\"\")\n",
    "\n",
    "#kity_sur.head()"
   ]
  },
  {
   "cell_type": "code",
   "execution_count": null,
   "id": "0ba074de",
   "metadata": {},
   "outputs": [],
   "source": []
  },
  {
   "cell_type": "markdown",
   "id": "2e562137",
   "metadata": {},
   "source": [
    "### Deleting the unecessary columns"
   ]
  },
  {
   "cell_type": "code",
   "execution_count": 7,
   "id": "eb282e7d",
   "metadata": {},
   "outputs": [
    {
     "data": {
      "text/plain": [
       "Index(['User number', 'Q1: How many times a year do you do a DIY project?',\n",
       "       'Q2: About how much do you spend on home-improvement each year?',\n",
       "       'Q3: Do you plan to complete a DIY project that involves painting in the next year?',\n",
       "       'Q4: If you answered yes to question 3, about how much do you plan to spend on indoor paint for the project?',\n",
       "       'Q5: If you answered yes to question 3, how likely are you to try an indoor paint offered by Meer-Kitty for your project?',\n",
       "       'Q6: What are your favorite indoor paint colors?'],\n",
       "      dtype='object')"
      ]
     },
     "execution_count": 7,
     "metadata": {},
     "output_type": "execute_result"
    }
   ],
   "source": [
    "kity_sur.drop(['Q6: What are your favorite indoor paint colors?.1', 'Unnamed: 8',\n",
    "       'Unnamed: 9', 'Unnamed: 10'], axis = 1, inplace = True)\n",
    "\n",
    "kity_sur.columns"
   ]
  },
  {
   "cell_type": "code",
   "execution_count": 8,
   "id": "a8a2940f",
   "metadata": {},
   "outputs": [
    {
     "data": {
      "text/html": [
       "<div>\n",
       "<style scoped>\n",
       "    .dataframe tbody tr th:only-of-type {\n",
       "        vertical-align: middle;\n",
       "    }\n",
       "\n",
       "    .dataframe tbody tr th {\n",
       "        vertical-align: top;\n",
       "    }\n",
       "\n",
       "    .dataframe thead th {\n",
       "        text-align: right;\n",
       "    }\n",
       "</style>\n",
       "<table border=\"1\" class=\"dataframe\">\n",
       "  <thead>\n",
       "    <tr style=\"text-align: right;\">\n",
       "      <th></th>\n",
       "      <th>User number</th>\n",
       "      <th>Q1: How many times a year do you do a DIY project?</th>\n",
       "      <th>Q2: About how much do you spend on home-improvement each year?</th>\n",
       "      <th>Q3: Do you plan to complete a DIY project that involves painting in the next year?</th>\n",
       "      <th>Q4: If you answered yes to question 3, about how much do you plan to spend on indoor paint for the project?</th>\n",
       "      <th>Q5: If you answered yes to question 3, how likely are you to try an indoor paint offered by Meer-Kitty for your project?</th>\n",
       "      <th>Q6: What are your favorite indoor paint colors?</th>\n",
       "    </tr>\n",
       "  </thead>\n",
       "  <tbody>\n",
       "    <tr>\n",
       "      <th>0</th>\n",
       "      <td>749</td>\n",
       "      <td>01-02-2021</td>\n",
       "      <td>Less than $100</td>\n",
       "      <td>Yes</td>\n",
       "      <td>Less than $50</td>\n",
       "      <td>Somewhat likely</td>\n",
       "      <td>red, orange</td>\n",
       "    </tr>\n",
       "    <tr>\n",
       "      <th>1</th>\n",
       "      <td>854</td>\n",
       "      <td>03-05-2021</td>\n",
       "      <td>$101-$250</td>\n",
       "      <td>No</td>\n",
       "      <td>NaN</td>\n",
       "      <td>NaN</td>\n",
       "      <td>lime</td>\n",
       "    </tr>\n",
       "    <tr>\n",
       "      <th>2</th>\n",
       "      <td>721</td>\n",
       "      <td>none</td>\n",
       "      <td>Less than $100</td>\n",
       "      <td>No</td>\n",
       "      <td>NaN</td>\n",
       "      <td>NaN</td>\n",
       "      <td>Indigo</td>\n",
       "    </tr>\n",
       "    <tr>\n",
       "      <th>3</th>\n",
       "      <td>772</td>\n",
       "      <td>01-02-2021</td>\n",
       "      <td>$501-$1,000</td>\n",
       "      <td>Yes</td>\n",
       "      <td>$101-$250</td>\n",
       "      <td>Very likely</td>\n",
       "      <td>pink, blue, purple</td>\n",
       "    </tr>\n",
       "    <tr>\n",
       "      <th>4</th>\n",
       "      <td>923</td>\n",
       "      <td>01-02-2021</td>\n",
       "      <td>$501-$1,000</td>\n",
       "      <td>No</td>\n",
       "      <td>NaN</td>\n",
       "      <td>NaN</td>\n",
       "      <td>Green</td>\n",
       "    </tr>\n",
       "  </tbody>\n",
       "</table>\n",
       "</div>"
      ],
      "text/plain": [
       "   User number Q1: How many times a year do you do a DIY project?  \\\n",
       "0          749                                         01-02-2021   \n",
       "1          854                                         03-05-2021   \n",
       "2          721                                               none   \n",
       "3          772                                         01-02-2021   \n",
       "4          923                                         01-02-2021   \n",
       "\n",
       "  Q2: About how much do you spend on home-improvement each year?  \\\n",
       "0                                     Less than $100               \n",
       "1                                          $101-$250               \n",
       "2                                     Less than $100               \n",
       "3                                        $501-$1,000               \n",
       "4                                        $501-$1,000               \n",
       "\n",
       "  Q3: Do you plan to complete a DIY project that involves painting in the next year?  \\\n",
       "0                                                Yes                                   \n",
       "1                                                 No                                   \n",
       "2                                                 No                                   \n",
       "3                                                Yes                                   \n",
       "4                                                 No                                   \n",
       "\n",
       "  Q4: If you answered yes to question 3, about how much do you plan to spend on indoor paint for the project?  \\\n",
       "0                                      Less than $50                                                            \n",
       "1                                                NaN                                                            \n",
       "2                                                NaN                                                            \n",
       "3                                          $101-$250                                                            \n",
       "4                                                NaN                                                            \n",
       "\n",
       "  Q5: If you answered yes to question 3, how likely are you to try an indoor paint offered by Meer-Kitty for your project?  \\\n",
       "0                                    Somewhat likely                                                                         \n",
       "1                                                NaN                                                                         \n",
       "2                                                NaN                                                                         \n",
       "3                                        Very likely                                                                         \n",
       "4                                                NaN                                                                         \n",
       "\n",
       "  Q6: What are your favorite indoor paint colors?  \n",
       "0                                     red, orange  \n",
       "1                                            lime  \n",
       "2                                          Indigo  \n",
       "3                              pink, blue, purple  \n",
       "4                                           Green  "
      ]
     },
     "execution_count": 8,
     "metadata": {},
     "output_type": "execute_result"
    }
   ],
   "source": [
    "kity_sur.head()"
   ]
  },
  {
   "cell_type": "markdown",
   "id": "8f411eca",
   "metadata": {},
   "source": [
    "###  To find out how many people want to buy the product "
   ]
  },
  {
   "cell_type": "code",
   "execution_count": 9,
   "id": "a394bd15",
   "metadata": {},
   "outputs": [
    {
     "data": {
      "text/plain": [
       "Index(['User number', 'Q1: How many times a year do you do a DIY project?',\n",
       "       'Q2: About how much do you spend on home-improvement each year?',\n",
       "       'Q3: Do you plan to complete a DIY project that involves painting in the next year?',\n",
       "       'Q4: If you answered yes to question 3, about how much do you plan to spend on indoor paint for the project?',\n",
       "       'Q5: If you answered yes to question 3, how likely are you to try an indoor paint offered by Meer-Kitty for your project?',\n",
       "       'Q6: What are your favorite indoor paint colors?'],\n",
       "      dtype='object')"
      ]
     },
     "execution_count": 9,
     "metadata": {},
     "output_type": "execute_result"
    }
   ],
   "source": [
    "kity_sur.columns"
   ]
  },
  {
   "cell_type": "code",
   "execution_count": 10,
   "id": "a88b361d",
   "metadata": {},
   "outputs": [
    {
     "data": {
      "text/plain": [
       "Somewhat likely    30\n",
       "Very likely        18\n",
       "Unlikely           16\n",
       "Name: Q5: If you answered yes to question 3, how likely are you to try an indoor paint offered by Meer-Kitty for your project?, dtype: int64"
      ]
     },
     "execution_count": 10,
     "metadata": {},
     "output_type": "execute_result"
    }
   ],
   "source": [
    "kity_sur['Q5: If you answered yes to question 3, how likely are you to try an indoor paint offered by Meer-Kitty for your project?'].value_counts()"
   ]
  },
  {
   "cell_type": "code",
   "execution_count": 11,
   "id": "363ffde9",
   "metadata": {},
   "outputs": [
    {
     "data": {
      "text/plain": [
       "152"
      ]
     },
     "execution_count": 11,
     "metadata": {},
     "output_type": "execute_result"
    }
   ],
   "source": [
    "\n",
    "\n",
    "len(kity_sur['Q5: If you answered yes to question 3, how likely are you to try an indoor paint offered by Meer-Kitty for your project?'])\n",
    "\n"
   ]
  },
  {
   "cell_type": "code",
   "execution_count": 12,
   "id": "7a75e309",
   "metadata": {},
   "outputs": [
    {
     "name": "stdout",
     "output_type": "stream",
     "text": [
      "Maximum customers :31.57894736842105\n",
      "\n",
      "Definite Customers:11.842105263157894\n",
      "\n",
      "Not interested customers:10.526315789473683\n",
      "\n",
      "Non customers:46.05263157894737\n"
     ]
    }
   ],
   "source": [
    "#Maximum number of people who could by the product according to the survey\n",
    "Target_col = kity_sur['Q5: If you answered yes to question 3, how likely are you to try an indoor paint offered by Meer-Kitty for your project?']\n",
    "\n",
    "\n",
    "max_const = ( ((Target_col == 'Somewhat likely').sum() + (Target_col == 'Very likely').sum()) / (len(Target_col)) )* 100\n",
    "\n",
    "min_const = ( ((Target_col == 'Very likely').sum()) / (len(Target_col)) )* 100\n",
    "\n",
    "non_const =  ( ((Target_col == 'Unlikely').sum()) / (len(Target_col)) )* 100\n",
    "\n",
    "\n",
    "\n",
    "cust_dic = {\n",
    "\"Maximum customers\" :31.57894736842105,\n",
    "\n",
    "\"Definite Customers\":11.842105263157894,\n",
    "\n",
    "\"Non interested customers\":10.526315789473683,\n",
    "\n",
    "\"Non customers\":46.05263157894737\n",
    "}\n",
    "\n",
    "\n",
    "\n",
    "print(f\"Maximum customers :{max_const}\\n\\nDefinite Customers:{min_const}\\n\\nNot interested customers:{non_const}\\n\\nNon customers:{100 - (min_const + max_const +non_const)}\")\n",
    "\n"
   ]
  },
  {
   "cell_type": "code",
   "execution_count": 13,
   "id": "5ebc0742",
   "metadata": {},
   "outputs": [
    {
     "data": {
      "image/png": "[encoded data removed]",
      "text/plain": [
       "<Figure size 432x288 with 1 Axes>"
      ]
     },
     "metadata": {},
     "output_type": "display_data"
    }
   ],
   "source": [
    "import matplotlib.pyplot as plt\n",
    "plt.pie(cust_dic.values(), labels = cust_dic.keys())\n",
    "plt.show()"
   ]
  },
  {
   "cell_type": "markdown",
   "id": "23d735a2",
   "metadata": {},
   "source": [
    "### Market intuitionaccording to last year. And Potential Customers"
   ]
  },
  {
   "cell_type": "code",
   "execution_count": 14,
   "id": "ff6bdec7",
   "metadata": {},
   "outputs": [],
   "source": [
    "#Assigning columns to variable name\n",
    "\n",
    "proj_no = kity_sur['Q1: How many times a year do you do a DIY project?']\n",
    "amon_spend_proj = kity_sur['Q2: About how much do you spend on home-improvement each year?']\n",
    "potential_cust = kity_sur['Q3: Do you plan to complete a DIY project that involves painting in the next year?']\n"
   ]
  },
  {
   "cell_type": "code",
   "execution_count": 15,
   "id": "57b42bf7",
   "metadata": {},
   "outputs": [],
   "source": [
    "#Replacing the proj_no values with the integer\n",
    "\n",
    "kity_sur['Q1: How many times a year do you do a DIY project?'].replace(\"01-02-2021\", int(1), inplace = True)\n",
    "\n",
    "kity_sur['Q1: How many times a year do you do a DIY project?'].replace(\"03-05-2021\", int(1), inplace = True)\n",
    "\n",
    "#kity_sur['Q1: How many times a year do you do a DIY project?'].replace(\"none\", np.nan, inplace = True)\n",
    "\n",
    "\n"
   ]
  },
  {
   "cell_type": "code",
   "execution_count": 16,
   "id": "64609d96",
   "metadata": {},
   "outputs": [
    {
     "data": {
      "text/plain": [
       "1            99\n",
       "none         50\n",
       "7 or more     3\n",
       "Name: Q1: How many times a year do you do a DIY project?, dtype: int64"
      ]
     },
     "execution_count": 16,
     "metadata": {},
     "output_type": "execute_result"
    }
   ],
   "source": [
    "kity_sur['Q1: How many times a year do you do a DIY project?'].value_counts()\n"
   ]
  },
  {
   "cell_type": "code",
   "execution_count": 17,
   "id": "39ff9716",
   "metadata": {},
   "outputs": [
    {
     "data": {
      "text/plain": [
       "No     86\n",
       "Yes    65\n",
       "Name: Q3: Do you plan to complete a DIY project that involves painting in the next year?, dtype: int64"
      ]
     },
     "execution_count": 17,
     "metadata": {},
     "output_type": "execute_result"
    }
   ],
   "source": [
    "potential_cust.value_counts()"
   ]
  },
  {
   "cell_type": "code",
   "execution_count": 18,
   "id": "ef587ca0",
   "metadata": {},
   "outputs": [
    {
     "name": "stdout",
     "output_type": "stream",
     "text": [
      "Number of Potential Customers in market sample or survey population:65\n",
      "\n",
      "Percentage of Potential Customers in market sample or survey population:42.76315789473684\n"
     ]
    }
   ],
   "source": [
    "#Potential Customers according to the survey\n",
    "\n",
    "pot_cust = (potential_cust == \"Yes\").sum() / (len(potential_cust))\n",
    "\n",
    "\n",
    "\n",
    "print(f\"Number of Potential Customers in market sample or survey population:{(potential_cust == 'Yes').sum()}\\n\\nPercentage of Potential Customers in market sample or survey population:{ pot_cust*100 }\")"
   ]
  },
  {
   "cell_type": "code",
   "execution_count": 19,
   "id": "75ad965c",
   "metadata": {},
   "outputs": [
    {
     "data": {
      "text/plain": [
       "([<matplotlib.patches.Wedge at 0x26addd00b20>,\n",
       "  <matplotlib.patches.Wedge at 0x26addd32460>],\n",
       " [Text(0.25006428345431025, 1.0711992597740545, 'survey poplutation Potential Customers'),\n",
       "  Text(-0.2500641831613967, -1.0711992831867578, 'Non Customer')])"
      ]
     },
     "execution_count": 19,
     "metadata": {},
     "output_type": "execute_result"
    },
    {
     "data": {
      "image/png": "[encoded data removed]",
      "text/plain": [
       "<Figure size 432x288 with 1 Axes>"
      ]
     },
     "metadata": {},
     "output_type": "display_data"
    }
   ],
   "source": [
    "\n",
    "\n",
    "plt.pie([42.7, (100 - 42.7)], labels = [\"survey poplutation Potential Customers\", \"Non Customer\"])\n",
    "\n"
   ]
  },
  {
   "cell_type": "markdown",
   "id": "91ef3d60",
   "metadata": {},
   "source": [
    "### Money spent by potential customers on the product in one year."
   ]
  },
  {
   "cell_type": "code",
   "execution_count": 20,
   "id": "4d919536",
   "metadata": {},
   "outputs": [
    {
     "data": {
      "text/plain": [
       "Less than $100      68\n",
       "$501-$1,000         39\n",
       "$101-$250           30\n",
       "More than $1,000     8\n",
       "$251-$500            7\n",
       "Name: Q2: About how much do you spend on home-improvement each year?, dtype: int64"
      ]
     },
     "execution_count": 20,
     "metadata": {},
     "output_type": "execute_result"
    }
   ],
   "source": [
    "amon_spend_proj.value_counts()"
   ]
  },
  {
   "cell_type": "code",
   "execution_count": 21,
   "id": "b4979324",
   "metadata": {},
   "outputs": [
    {
     "name": "stdout",
     "output_type": "stream",
     "text": [
      "Less than $100:44.73684210526316\n",
      "\n",
      "$501-$1,000:25.657894736842106\n",
      "\n",
      "$101-$250:19.736842105263158\n",
      "\n",
      "More than $1,000:5.263157894736842\n",
      "\n",
      "$251-$500: 4.605263157894736\n"
     ]
    }
   ],
   "source": [
    "print(f\"Less than $100:{(68 / len(amon_spend_proj)) * 100}\\n\\n$501-$1,000:{(39/len(amon_spend_proj)) * 100}\\n\\n$101-$250:{(30/len(amon_spend_proj)) * 100}\\n\\nMore than $1,000:{(8/len(amon_spend_proj)) * 100}\\n\\n$251-$500: {(7/len(amon_spend_proj)) *100}\")"
   ]
  },
  {
   "cell_type": "code",
   "execution_count": 22,
   "id": "18d947fd",
   "metadata": {},
   "outputs": [],
   "source": [
    "amont_dic = {\n",
    "\"Less than $100\":44.73684210526316,\n",
    "\n",
    "\"$501-$1,000\":25.657894736842106,\n",
    "\n",
    "\"$101-$250\":19.736842105263158,\n",
    "\n",
    "\"More than $1,000\":5.263157894736842,\n",
    "\n",
    "\"$251-$500\": 4.605263157894736\n",
    "}"
   ]
  },
  {
   "cell_type": "code",
   "execution_count": 23,
   "id": "98936554",
   "metadata": {},
   "outputs": [
    {
     "data": {
      "text/plain": [
       "([<matplotlib.patches.Wedge at 0x26adfe4fe80>,\n",
       "  <matplotlib.patches.Wedge at 0x26adfe5b400>,\n",
       "  <matplotlib.patches.Wedge at 0x26adfe5b820>,\n",
       "  <matplotlib.patches.Wedge at 0x26adfe5bcd0>,\n",
       "  <matplotlib.patches.Wedge at 0x26adfe6a130>],\n",
       " [Text(0.18105397445685562, 1.0849974462335736, 'Less than $100'),\n",
       "  Text(-0.9780344180483789, -0.5034368650712512, '$501-$1,000'),\n",
       "  Text(0.3571695648023198, -1.04039891482975, '$101-$250'),\n",
       "  Text(0.9882301378122608, -0.4831161296412699, 'More than $1,000'),\n",
       "  Text(1.0885075415135268, -0.15859171500484417, '$251-$500')])"
      ]
     },
     "execution_count": 23,
     "metadata": {},
     "output_type": "execute_result"
    },
    {
     "data": {
      "image/png": "[encoded data removed]",
      "text/plain": [
       "<Figure size 432x288 with 1 Axes>"
      ]
     },
     "metadata": {},
     "output_type": "display_data"
    }
   ],
   "source": [
    "plt.pie(amont_dic.values(), labels = amont_dic.keys())"
   ]
  },
  {
   "cell_type": "markdown",
   "id": "15c46ec5",
   "metadata": {},
   "source": [
    "### Potential Market for year by a survey Sample (approx)."
   ]
  },
  {
   "cell_type": "code",
   "execution_count": 24,
   "id": "264ffea9",
   "metadata": {},
   "outputs": [
    {
     "name": "stdout",
     "output_type": "stream",
     "text": [
      "Potential Approx Market by survey population in $:52263.0\n"
     ]
    }
   ],
   "source": [
    "\n",
    "\n",
    "num_1 =((100 + 50)/2) *68\n",
    "num_4 = ((501+1000) / 2)*39\n",
    "num_2 = ((101+250)/ 2)*30\n",
    "num_5 = ((1000+ 1500)/2)*8\n",
    "num_3 = ((251+500)/2)*7\n",
    "\n",
    "print(f\"Potential Approx Market by survey population in $:{num_1 + num_2 + num_3 + num_4 + num_5}\")"
   ]
  },
  {
   "cell_type": "markdown",
   "id": "5e662f1e",
   "metadata": {},
   "source": [
    "### Favorite colors to product to attrack potential customers according to the survey populaton"
   ]
  },
  {
   "cell_type": "code",
   "execution_count": 25,
   "id": "b640f852",
   "metadata": {},
   "outputs": [],
   "source": [
    "fav_color = kity_sur['Q6: What are your favorite indoor paint colors?']"
   ]
  },
  {
   "cell_type": "code",
   "execution_count": 26,
   "id": "32e8d487",
   "metadata": {},
   "outputs": [
    {
     "data": {
      "text/plain": [
       "Yellow                        7\n",
       "green                         6\n",
       "lime                          6\n",
       "tan, gray                     5\n",
       "pink                          5\n",
       "indigo                        5\n",
       "Navy                          4\n",
       "olive                         4\n",
       "Magenta                       4\n",
       "Cyan                          4\n",
       "Blue, purple                  3\n",
       "purple                        3\n",
       "gray                          3\n",
       "teal, light blue              3\n",
       "Silver                        2\n",
       "Red                           2\n",
       "Orange                        2\n",
       "Blue                          2\n",
       "White                         2\n",
       "Green                         2\n",
       "maroon                        2\n",
       "purple, blue                  1\n",
       "Purple                        1\n",
       "Aqua                          1\n",
       "red                           1\n",
       "Blue, Gray                    1\n",
       "Violet                        1\n",
       "Turquoise                     1\n",
       "aquamarine                    1\n",
       "White, ecru                   1\n",
       "beige, cream                  1\n",
       "Aqua, Turquoise, Teal         1\n",
       "Brown, Tan, Gray              1\n",
       "pink, blue, purple            1\n",
       "Indigo                        1\n",
       "Black                         1\n",
       "beige, brown, tan             1\n",
       "red, orange                   1\n",
       "gray, silver, copper          1\n",
       "black                         1\n",
       "Green, Yellow                 1\n",
       "brown                         1\n",
       "Light blue                    1\n",
       "red, brown                    1\n",
       "yellow, orange, red, white    1\n",
       "gree, blue, red, orange       1\n",
       "Pink                          1\n",
       "blue                          1\n",
       "orange, rust, copper          1\n",
       "yellow, orange, beige         1\n",
       "cream, brown, rust            1\n",
       "orange, rust, red, copper     1\n",
       "green, blue                   1\n",
       "Name: Q6: What are your favorite indoor paint colors?, dtype: int64"
      ]
     },
     "execution_count": 26,
     "metadata": {},
     "output_type": "execute_result"
    }
   ],
   "source": [
    "fav_color.value_counts().sort_values(ascending = False)"
   ]
  },
  {
   "cell_type": "code",
   "execution_count": 27,
   "id": "a0b3189a",
   "metadata": {},
   "outputs": [],
   "source": [
    "# fav_color.drop(\"None\", inplace = True)"
   ]
  },
  {
   "cell_type": "code",
   "execution_count": 28,
   "id": "674ea941",
   "metadata": {},
   "outputs": [],
   "source": [
    "# fav_color.fillna(\"\", inplace = True)"
   ]
  },
  {
   "cell_type": "code",
   "execution_count": 29,
   "id": "f2ec23c5",
   "metadata": {},
   "outputs": [],
   "source": [
    "# new = fav_color.str.split(\",\", n = -1, expand = True)"
   ]
  },
  {
   "cell_type": "code",
   "execution_count": 30,
   "id": "b48aba59",
   "metadata": {},
   "outputs": [],
   "source": [
    "# col_1 = new[0]\n",
    "# col_2 = new[1]\n",
    "# col_3 = new[2]\n",
    "# col_4 = new[3]"
   ]
  },
  {
   "cell_type": "code",
   "execution_count": 31,
   "id": "4f49a995",
   "metadata": {},
   "outputs": [],
   "source": [
    "\n",
    "# print(col_1.unique())\n",
    "\n",
    "# colu1 = col_1.unique()"
   ]
  },
  {
   "cell_type": "code",
   "execution_count": 32,
   "id": "6f4c782a",
   "metadata": {},
   "outputs": [],
   "source": [
    "# print(col_2.unique())\n",
    "\n",
    "\n",
    "# colu2 = col_2.unique()"
   ]
  },
  {
   "cell_type": "code",
   "execution_count": 33,
   "id": "c7c850cb",
   "metadata": {},
   "outputs": [],
   "source": [
    "# print(col_3.unique())\n",
    "\n",
    "# colu3 = col_3.unique()\n"
   ]
  },
  {
   "cell_type": "code",
   "execution_count": 34,
   "id": "831658c6",
   "metadata": {},
   "outputs": [],
   "source": [
    "# print(col_4.unique())\n",
    "\n",
    "# colu4 = col_4.unique()\n",
    "\n"
   ]
  },
  {
   "cell_type": "code",
   "execution_count": 35,
   "id": "de49862f",
   "metadata": {},
   "outputs": [],
   "source": [
    "# colu4"
   ]
  },
  {
   "cell_type": "code",
   "execution_count": 36,
   "id": "4c5320da",
   "metadata": {},
   "outputs": [],
   "source": [
    "# np.concatenate((colu1, colu2, colu3, colu4))"
   ]
  },
  {
   "cell_type": "code",
   "execution_count": 37,
   "id": "312cd2dd",
   "metadata": {},
   "outputs": [],
   "source": [
    "# from array import *\n",
    "\n",
    "# colu1_l = colu1.tolist()\n",
    "# colu2_l = colu2.tolist()\n",
    "# colu3_1 = colu3.tolist()\n",
    "# colu4_l = colu4.tolist()"
   ]
  },
  {
   "cell_type": "code",
   "execution_count": 38,
   "id": "de1a4647",
   "metadata": {},
   "outputs": [],
   "source": [
    "# new_list = colu1_l + colu2_l + colu3_1 + colu4_l"
   ]
  },
  {
   "cell_type": "code",
   "execution_count": 39,
   "id": "e1311817",
   "metadata": {},
   "outputs": [],
   "source": [
    "# from collections import Counter\n",
    "\n",
    "# print(*Counter(new_list))"
   ]
  }
 ],
 "metadata": {
  "kernelspec": {
   "display_name": "Python 3 (ipykernel)",
   "language": "python",
   "name": "python3"
  },
  "language_info": {
   "codemirror_mode": {
    "name": "ipython",
    "version": 3
   },
   "file_extension": ".py",
   "mimetype": "text/x-python",
   "name": "python",
   "nbconvert_exporter": "python",
   "pygments_lexer": "ipython3",
   "version": "3.9.7"
  }
 },
 "nbformat": 4,
 "nbformat_minor": 5
}
